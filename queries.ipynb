{
 "cells": [
  {
   "cell_type": "markdown",
   "metadata": {},
   "source": [
    "# Влияние разных факторов на количество лайков на странице ВКонтакте."
   ]
  },
  {
   "cell_type": "markdown",
   "metadata": {},
   "source": [
    "Цель данного проекта заключается в том, чтобы выяснить, какой из трех фактором является важнейшним при публикации записи в социальной сети ВКонтакте для получения наибольшего количества лайков. Наши рассматриваемые факторы: время суток публикации, день недели или промежуток между постами. Для ответа на данный вопрос я спарсил информацию о постах (*файл posts_parser.py*) с [личной страницы Сергея Семёновича Собянина во ВКонтакте](https://vk.com/mossobyanin). На странице Сергея Семёновича было опубликовано около семи тысяч записей. Значит, результаты данного исследования могут считаться более или менее репрезентативными."
   ]
  },
  {
   "cell_type": "code",
   "execution_count": 185,
   "metadata": {},
   "outputs": [],
   "source": [
    "import sqlite3\n",
    "import pandas as pd"
   ]
  },
  {
   "cell_type": "markdown",
   "metadata": {},
   "source": [
    "Импорт необходимых библиотек - *sqlite3* для работы с SQL-запросами и *pandas* для дальнейшего анализа зависимости между факторами и количеством лайков."
   ]
  },
  {
   "cell_type": "code",
   "execution_count": 186,
   "metadata": {},
   "outputs": [],
   "source": [
    "connection = sqlite3.connect('Sobyanin_posts_data.db')"
   ]
  },
  {
   "cell_type": "markdown",
   "metadata": {},
   "source": [
    "Создания подключения к базе данных с информацией о постах."
   ]
  },
  {
   "cell_type": "markdown",
   "metadata": {},
   "source": [
    "## Время суток и количество лайков."
   ]
  },
  {
   "cell_type": "code",
   "execution_count": 187,
   "metadata": {},
   "outputs": [
    {
     "name": "stdout",
     "output_type": "stream",
     "text": [
      "Время суток: day, Количество лайков: 1822528\n",
      "Время суток: evening, Количество лайков: 813593\n",
      "Время суток: morning, Количество лайков: 524972\n",
      "Время суток: night, Количество лайков: 16752\n"
     ]
    }
   ],
   "source": [
    "query1 = '''\n",
    "    SELECT time_of_day, SUM(likes_count) AS total_likes\n",
    "    FROM posts\n",
    "    GROUP BY time_of_day\n",
    "    ORDER BY total_likes DESC\n",
    "'''\n",
    "\n",
    "result1 = connection.execute(query1).fetchall()\n",
    "lresult1 = list(result1)\n",
    "\n",
    "for row in result1:\n",
    "    print(f\"Время суток: {row[0]}, Количество лайков: {row[1]}\")"
   ]
  },
  {
   "cell_type": "markdown",
   "metadata": {},
   "source": [
    "В данном запросе мы агрегируем данные по столбцу *time_of_day* и вычисляем суммарное количество лайков для каждого времени дня. \n",
    "Выводим результат по убыванию столбца *total_likes*. Вывод: больше всего лайков проставили на посты, которые были выложены днем."
   ]
  },
  {
   "cell_type": "markdown",
   "metadata": {},
   "source": [
    "## День недели и количество лайков."
   ]
  },
  {
   "cell_type": "code",
   "execution_count": 188,
   "metadata": {},
   "outputs": [
    {
     "name": "stdout",
     "output_type": "stream",
     "text": [
      "День недели: friday, Количество лайков: 501458\n",
      "День недели: tuesday, Количество лайков: 496997\n",
      "День недели: thursday, Количество лайков: 472433\n",
      "День недели: wednesday, Количество лайков: 469814\n",
      "День недели: saturday, Количество лайков: 421331\n",
      "День недели: monday, Количество лайков: 415579\n",
      "День недели: sunday, Количество лайков: 400233\n"
     ]
    }
   ],
   "source": [
    "query2 = '''\n",
    "    SELECT day_of_week, SUM(likes_count) AS total_likes\n",
    "    FROM posts\n",
    "    GROUP BY day_of_week\n",
    "    ORDER BY total_likes DESC\n",
    "'''\n",
    "\n",
    "result2 = connection.execute(query2).fetchall()\n",
    "lresult2 = list(result2)\n",
    "\n",
    "for row in result2:\n",
    "    print(f\"День недели: {row[0]}, Количество лайков: {row[1]}\")"
   ]
  },
  {
   "cell_type": "markdown",
   "metadata": {},
   "source": [
    "Агрегируем данные, но уже по столбцу *day_of_week*. Можем заметить, что разница в количестве лайков не такая колоссальная, как в случае с временем суток публикации. Так или иначе, больше всего лайков было проставлено на посты, опубликованные в пятницу."
   ]
  },
  {
   "cell_type": "markdown",
   "metadata": {},
   "source": [
    "## Интервал (в днях) между постами и количество лайков."
   ]
  },
  {
   "cell_type": "code",
   "execution_count": 189,
   "metadata": {},
   "outputs": [
    {
     "name": "stdout",
     "output_type": "stream",
     "text": [
      "Интервал (в днях): 0.0, Количество лайков: 1908477\n",
      "Интервал (в днях): 1.0, Количество лайков: 1124839\n",
      "Интервал (в днях): 2.0, Количество лайков: 86596\n",
      "Интервал (в днях): 3.0, Количество лайков: 34970\n",
      "Интервал (в днях): 4.0, Количество лайков: 11594\n",
      "Интервал (в днях): 5.0, Количество лайков: 1834\n",
      "Интервал (в днях): 7.0, Количество лайков: 1008\n",
      "Интервал (в днях): 48.0, Количество лайков: 267\n"
     ]
    }
   ],
   "source": [
    "query3 = \"\"\"\n",
    "WITH lagged_posts AS (\n",
    "    SELECT date(full_date) AS full_date,\n",
    "           likes_count,\n",
    "           LAG(date(full_date)) OVER (ORDER BY date(full_date)) AS lag_full_date\n",
    "    FROM posts\n",
    ")\n",
    "SELECT days_diff, SUM(likes_count) AS total_likes\n",
    "FROM (\n",
    "    SELECT IFNULL(julianday(full_date) - julianday(lag_full_date), -1) AS days_diff,\n",
    "           likes_count\n",
    "    FROM lagged_posts\n",
    ")\n",
    "WHERE days_diff != -1\n",
    "GROUP BY days_diff\n",
    "ORDER BY total_likes DESC;\n",
    "\"\"\"\n",
    "\n",
    "result3 = connection.execute(query3).fetchall()\n",
    "lresult3 = list(result3)\n",
    "\n",
    "for row in result3:\n",
    "    print(f\"Интервал (в днях): {row[0]}, Количество лайков: {row[1]}\")"
   ]
  },
  {
   "cell_type": "markdown",
   "metadata": {},
   "source": [
    "Интервал (в днях) представляет собой разницу между датой текущего поста и предыдущего. Например, если для определенного интервала (например, 1.0) у нас есть суммарное количество лайков 1124839, это означает, что в среднем между постами, размещенными с интервалом в 1 день, получается примерно 1124839 лайков.\n",
    "\n",
    "Агрегируем данные по интервалу (в днях) между постами. Видим, что чем чаще выходят посты (интервал между постами 0 дней, 1 день, 2 дня), тем больше лайков на публикациях. Делаем вывод: частые публикации позитивно влияют на активность аудитории."
   ]
  },
  {
   "cell_type": "code",
   "execution_count": 190,
   "metadata": {},
   "outputs": [],
   "source": [
    "connection.close()"
   ]
  },
  {
   "cell_type": "markdown",
   "metadata": {},
   "source": [
    "Прерывание соединения с базой данных."
   ]
  },
  {
   "cell_type": "markdown",
   "metadata": {},
   "source": [
    "## Определение наиболее важного фактора."
   ]
  },
  {
   "cell_type": "markdown",
   "metadata": {},
   "source": [
    "Так как столбцы *time_of_day* и *day_of_week* хранят в себе категориальные значения, для определения корреляции между этими факторами и количеством лайков будет использоваться преобразование категориальных переменных в числовой формат, который можно использовать для расчета корреляции с непрерывными переменными. В процессе преобразования *time_of_day* и *day_of_week* каждое уникальное значение заменяется числовым кодом.\n",
    "\n",
    "Для определения зависимости будет использоваться библиотека *pandas* и ее метод *[corr](https://pandas.pydata.org/docs/reference/api/pandas.DataFrame.corr.html)*."
   ]
  },
  {
   "cell_type": "code",
   "execution_count": 191,
   "metadata": {},
   "outputs": [],
   "source": [
    "df1 = pd.DataFrame(lresult1, columns=['time_of_day', 'likes_count'])\n",
    "df1['time_of_day_code'] = df1['time_of_day'].astype('category').cat.codes\n",
    "\n",
    "\n",
    "df2 = pd.DataFrame(lresult2, columns=['day_of_week', 'likes_count'])\n",
    "df2['day_of_week_code'] = df2['day_of_week'].astype('category').cat.codes\n",
    "\n",
    "df3 = pd.DataFrame(lresult3, columns=['days_interval', 'likes_count'])"
   ]
  },
  {
   "cell_type": "code",
   "execution_count": 192,
   "metadata": {},
   "outputs": [
    {
     "data": {
      "text/html": [
       "<div>\n",
       "<style scoped>\n",
       "    .dataframe tbody tr th:only-of-type {\n",
       "        vertical-align: middle;\n",
       "    }\n",
       "\n",
       "    .dataframe tbody tr th {\n",
       "        vertical-align: top;\n",
       "    }\n",
       "\n",
       "    .dataframe thead th {\n",
       "        text-align: right;\n",
       "    }\n",
       "</style>\n",
       "<table border=\"1\" class=\"dataframe\">\n",
       "  <thead>\n",
       "    <tr style=\"text-align: right;\">\n",
       "      <th></th>\n",
       "      <th>time_of_day</th>\n",
       "      <th>likes_count</th>\n",
       "      <th>time_of_day_code</th>\n",
       "    </tr>\n",
       "  </thead>\n",
       "  <tbody>\n",
       "    <tr>\n",
       "      <th>0</th>\n",
       "      <td>day</td>\n",
       "      <td>1822528</td>\n",
       "      <td>0</td>\n",
       "    </tr>\n",
       "    <tr>\n",
       "      <th>1</th>\n",
       "      <td>evening</td>\n",
       "      <td>813593</td>\n",
       "      <td>1</td>\n",
       "    </tr>\n",
       "    <tr>\n",
       "      <th>2</th>\n",
       "      <td>morning</td>\n",
       "      <td>524972</td>\n",
       "      <td>2</td>\n",
       "    </tr>\n",
       "    <tr>\n",
       "      <th>3</th>\n",
       "      <td>night</td>\n",
       "      <td>16752</td>\n",
       "      <td>3</td>\n",
       "    </tr>\n",
       "  </tbody>\n",
       "</table>\n",
       "</div>"
      ],
      "text/plain": [
       "  time_of_day  likes_count  time_of_day_code\n",
       "0         day      1822528                 0\n",
       "1     evening       813593                 1\n",
       "2     morning       524972                 2\n",
       "3       night        16752                 3"
      ]
     },
     "execution_count": 192,
     "metadata": {},
     "output_type": "execute_result"
    }
   ],
   "source": [
    "df1"
   ]
  },
  {
   "cell_type": "code",
   "execution_count": 193,
   "metadata": {},
   "outputs": [
    {
     "data": {
      "text/html": [
       "<div>\n",
       "<style scoped>\n",
       "    .dataframe tbody tr th:only-of-type {\n",
       "        vertical-align: middle;\n",
       "    }\n",
       "\n",
       "    .dataframe tbody tr th {\n",
       "        vertical-align: top;\n",
       "    }\n",
       "\n",
       "    .dataframe thead th {\n",
       "        text-align: right;\n",
       "    }\n",
       "</style>\n",
       "<table border=\"1\" class=\"dataframe\">\n",
       "  <thead>\n",
       "    <tr style=\"text-align: right;\">\n",
       "      <th></th>\n",
       "      <th>day_of_week</th>\n",
       "      <th>likes_count</th>\n",
       "      <th>day_of_week_code</th>\n",
       "    </tr>\n",
       "  </thead>\n",
       "  <tbody>\n",
       "    <tr>\n",
       "      <th>0</th>\n",
       "      <td>friday</td>\n",
       "      <td>501458</td>\n",
       "      <td>0</td>\n",
       "    </tr>\n",
       "    <tr>\n",
       "      <th>1</th>\n",
       "      <td>tuesday</td>\n",
       "      <td>496997</td>\n",
       "      <td>5</td>\n",
       "    </tr>\n",
       "    <tr>\n",
       "      <th>2</th>\n",
       "      <td>thursday</td>\n",
       "      <td>472433</td>\n",
       "      <td>4</td>\n",
       "    </tr>\n",
       "    <tr>\n",
       "      <th>3</th>\n",
       "      <td>wednesday</td>\n",
       "      <td>469814</td>\n",
       "      <td>6</td>\n",
       "    </tr>\n",
       "    <tr>\n",
       "      <th>4</th>\n",
       "      <td>saturday</td>\n",
       "      <td>421331</td>\n",
       "      <td>2</td>\n",
       "    </tr>\n",
       "    <tr>\n",
       "      <th>5</th>\n",
       "      <td>monday</td>\n",
       "      <td>415579</td>\n",
       "      <td>1</td>\n",
       "    </tr>\n",
       "    <tr>\n",
       "      <th>6</th>\n",
       "      <td>sunday</td>\n",
       "      <td>400233</td>\n",
       "      <td>3</td>\n",
       "    </tr>\n",
       "  </tbody>\n",
       "</table>\n",
       "</div>"
      ],
      "text/plain": [
       "  day_of_week  likes_count  day_of_week_code\n",
       "0      friday       501458                 0\n",
       "1     tuesday       496997                 5\n",
       "2    thursday       472433                 4\n",
       "3   wednesday       469814                 6\n",
       "4    saturday       421331                 2\n",
       "5      monday       415579                 1\n",
       "6      sunday       400233                 3"
      ]
     },
     "execution_count": 193,
     "metadata": {},
     "output_type": "execute_result"
    }
   ],
   "source": [
    "df2"
   ]
  },
  {
   "cell_type": "code",
   "execution_count": 194,
   "metadata": {},
   "outputs": [
    {
     "name": "stdout",
     "output_type": "stream",
     "text": [
      "Корреляция между временем суток и количеством лайков: -0.9687133076489198\n",
      "Корреляция между днем недели и количеством лайков: 0.22350556848687878\n",
      "Корреляция между интервалом между постами (в днях) и количеством лайков: -0.3238546775522475\n"
     ]
    }
   ],
   "source": [
    "correlation1 = df1['time_of_day_code'].corr(df1['likes_count'])\n",
    "correlation2 = df2['day_of_week_code'].corr(df2['likes_count'])\n",
    "correlation3 = df3['days_interval'].corr(df3['likes_count'])\n",
    "\n",
    "print(f\"Корреляция между временем суток и количеством лайков: {correlation1}\")\n",
    "print(f\"Корреляция между днем недели и количеством лайков: {correlation2}\")\n",
    "print(f\"Корреляция между интервалом между постами (в днях) и количеством лайков: {correlation3}\")"
   ]
  },
  {
   "cell_type": "markdown",
   "metadata": {},
   "source": [
    "## Выводы"
   ]
  },
  {
   "cell_type": "markdown",
   "metadata": {},
   "source": [
    "* Корреляция между time_of_day и likes_count равна -0.9687. Значение близкое к -1 указывает на сильную обратную зависимость между временем дня и количеством лайков. Исходя из итоговой таблицы: больше лайков получают дневные посты, меньше - ночные.\n",
    "\n",
    "* Корреляция между day_of_week и likes_count равна 0.2235. Значение близкое к 0 указывает на слабую положительную связь между днем недели и количеством лайков. Это может указывать на то, что количество лайков слабо зависит от дня недели.\n",
    "\n",
    "* Корреляция между days_interval и likes_count равна -0.3239. Значение близкое к -1 указывает на слабую обратную зависимость между интервалом дней и количеством лайков. Так или иначе, можно заметить, что частые посты получают гораздо больше лайков (см. предыдущий пункт).\n",
    "\n",
    "**Самым важным их всех трех факторов можно считать время суток, в которое публикуется пост. Для получения наибольшего количества лайков лучше всего опубликовывать запись днем.**"
   ]
  }
 ],
 "metadata": {
  "kernelspec": {
   "display_name": "Python 3",
   "language": "python",
   "name": "python3"
  },
  "language_info": {
   "codemirror_mode": {
    "name": "ipython",
    "version": 3
   },
   "file_extension": ".py",
   "mimetype": "text/x-python",
   "name": "python",
   "nbconvert_exporter": "python",
   "pygments_lexer": "ipython3",
   "version": "3.10.4"
  },
  "orig_nbformat": 4
 },
 "nbformat": 4,
 "nbformat_minor": 2
}
